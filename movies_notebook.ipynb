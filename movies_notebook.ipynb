{
 "cells": [
  {
   "cell_type": "code",
   "execution_count": null,
   "metadata": {},
   "outputs": [],
   "source": [
    "# %% Doc setup\n",
    "import pandas as pd\n",
    "import numpy as np\n",
    "import matplotlib\n",
    "import matplotlib.pyplot as plt\n",
    "from pandas.plotting import parallel_coordinates\n",
    "import seaborn as sns\n",
    "import squarify\n",
    "\n",
    "global jnt \n",
    "global prll \n",
    "global chrd\n",
    "\n",
    "sns.set(style=\"dark\",\n",
    "        palette=\"PuBuGn_d\",\n",
    "        font=\"DejaVu Sans\")\n",
    "\n",
    "import holoviews as hv\n",
    "from holoviews import opts, dim\n",
    "from bokeh.sampledata.les_mis import data\n",
    "from IPython.display import display_html\n",
    "from holoviews import layout\n",
    "\n",
    "hv.extension(\"bokeh\")"
   ]
  },
  {
   "cell_type": "code",
   "execution_count": null,
   "metadata": {},
   "outputs": [],
   "source": [
    "# %% Read in movies data\n",
    "global movies\n",
    "movies = pd.read_csv(\"movies.csv\")\n",
    "movies[\"Vote\"]=movies[\"Vote\"].astype(\"float64\")\n",
    "movies[\"Runtime\"]=movies[\"Runtime\"].astype(\"float64\")\n",
    "movies[[\"Genre1\",\"Genre2\",\"Genre3\"]]=movies.Genre.str.split(\", \",expand=True)\n",
    "movies[\"Revenue/Min\"]=movies[\"Revenue\"]/movies[\"Runtime\"]\n",
    "movies[\"Meta:Score\"]=movies[\"Metascore\"]/movies[\"Score\"]*10\n",
    "movies[\"Score Decile\"]=movies[\"Score\"].apply(np.floor)\n",
    "movies[\"Metascore Decile\"]=(movies[\"Metascore\"]/10).apply(np.floor)\n",
    "movies[\"Decade\"]=((movies[\"Year\"]/10).apply(np.floor))*10\n",
    "\n",
    "#movies.to_csv(\"movies_out.csv\", index=False)"
   ]
  },
  {
   "cell_type": "code",
   "execution_count": null,
   "metadata": {},
   "outputs": [],
   "source": [
    "# %% Useful lists\n",
    "all_genres = movies[\"Genre1\"].append(movies[\"Genre2\"]).append(movies[\"Genre3\"]).dropna().unique().tolist()\n",
    "all_directors = movies[\"Director\"].dropna().unique().tolist()"
   ]
  },
  {
   "cell_type": "code",
   "execution_count": null,
   "metadata": {},
   "outputs": [],
   "source": [
    "# %% Take a look\n",
    "movies.info()\n",
    "movies.head()\n",
    "movies.describe()"
   ]
  },
  {
   "cell_type": "code",
   "execution_count": null,
   "metadata": {},
   "outputs": [],
   "source": [
    "# %%\n",
    "sns.pairplot(movies)"
   ]
  },
  {
   "cell_type": "code",
   "execution_count": null,
   "metadata": {},
   "outputs": [],
   "source": [
    "# %% score vs metascore\n",
    "jnt = sns.jointplot(x=\"Score\",\n",
    "              y=\"Metascore\",\n",
    "              data=movies,\n",
    "              kind=\"reg\",\n",
    "              dropna=True)# \"scatter\" | \"reg\" | \"resid\" | \"kde\" | \"hex\"\n",
    "\n",
    "#jnt.savefig(\"jointplot.png\")"
   ]
  },
  {
   "cell_type": "code",
   "execution_count": null,
   "metadata": {},
   "outputs": [],
   "source": [
    "# %% chord- genres\n",
    "movies_genres12 = pd.crosstab(movies.Genre1, movies.Genre2)\n",
    "movies_genres13 = pd.crosstab(movies.Genre1, movies.Genre3)\n",
    "\n",
    "movies_chord12 = hv.Dataset((list(movies_genres12.columns),\n",
    "                           list(movies_genres12.index),\n",
    "                           movies_genres12),\n",
    "                          ['source', 'target'], 'value_12').dframe()\n",
    "\n",
    "movies_chord13 = hv.Dataset((list(movies_genres13.columns),\n",
    "                           list(movies_genres13.index),\n",
    "                           movies_genres13),\n",
    "                          ['source', 'target'], 'value_13').dframe()\n",
    "\n",
    "movies_chord = pd.DataFrame.merge(movies_chord12,movies_chord13, how=\"outer\")\n",
    "movies_chord[\"value\"]=movies_chord.value_12+movies_chord.value_13.fillna(0).astype(int)\n",
    "movies_chord.drop([\"value_12\",\"value_13\"], 1, inplace=True)\n",
    "\n",
    "chrd = hv.Chord(movies_chord).opts(\n",
    "    title=\"Genre 1 to Genres 2 and 3\",\n",
    "    node_color='index',\n",
    "    edge_color='source',\n",
    "    label_index='index', \n",
    "    cmap='Category20b',\n",
    "    edge_cmap='Category20b',\n",
    "    width=1000,\n",
    "    height=1000)\n",
    "\n",
    "#hv.save(chrd,\"chord.html\", backend=\"bokeh\")"
   ]
  },
  {
   "cell_type": "code",
   "execution_count": null,
   "metadata": {},
   "outputs": [],
   "source": [
    "# %% score decile vs other quant vars\n",
    "movies_parallel=movies[[\"Metascore Decile\",\"Score\",\"Metascore\",\"Vote\",\"Runtime\",\"Revenue\",\"Revenue/Min\",\"Meta:Score\"]]\n",
    "movies_parallel_norm=(movies_parallel.drop(\"Metascore Decile\", axis=1)-movies_parallel.drop(\"Metascore Decile\", axis=1).mean())/movies_parallel.drop(\"Metascore Decile\", axis=1).std()\n",
    "movies_parallel_norm[\"Metascore Decile\"]=movies[\"Metascore Decile\"]\n",
    "#parallel_coordinates(movies_parallel_norm, \"Metascore Decile\")\n",
    "#plt.show()\n",
    "\n",
    "movies_parallel_desc = movies_parallel.groupby(\"Metascore Decile\").describe()[zip(movies_parallel.columns[1:],np.repeat(\"mean\",8))]\n",
    "movies_parallel_desc[\"Metascore Decile\"]=movies_parallel_desc.index\n",
    "movies_parallel_desc_norm=(movies_parallel_desc.drop(\"Metascore Decile\", axis=1)-movies_parallel_desc.drop(\"Metascore Decile\", axis=1).mean())/movies_parallel_desc.drop(\"Metascore Decile\", axis=1).std()\n",
    "movies_parallel_desc_norm[\"Metascore Decile\"]=movies_parallel_desc_norm.index\n",
    "\n",
    "prll = parallel_coordinates(movies_parallel_desc_norm, \"Metascore Decile\")\n",
    "plt.show()"
   ]
  },
  {
   "cell_type": "code",
   "execution_count": null,
   "metadata": {},
   "outputs": [],
   "source": []
  },
  {
   "cell_type": "code",
   "execution_count": null,
   "metadata": {},
   "outputs": [],
   "source": []
  }
 ],
 "metadata": {
  "kernelspec": {
   "display_name": "Python 3 (Spyder)",
   "language": "python3",
   "name": "python3"
  },
  "language_info": {
   "codemirror_mode": {
    "name": "ipython",
    "version": 3
   },
   "file_extension": ".py",
   "mimetype": "text/x-python",
   "name": "python",
   "nbconvert_exporter": "python",
   "pygments_lexer": "ipython3",
   "version": "3.7.6"
  }
 },
 "nbformat": 4,
 "nbformat_minor": 4
}
